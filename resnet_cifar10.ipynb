{
  "cells": [
    {
      "cell_type": "markdown",
      "metadata": {
        "id": "view-in-github",
        "colab_type": "text"
      },
      "source": [
        "<a href=\"https://colab.research.google.com/github/asangt/image_models/blob/main/resnet_cifar10.ipynb\" target=\"_parent\"><img src=\"https://colab.research.google.com/assets/colab-badge.svg\" alt=\"Open In Colab\"/></a>"
      ]
    },
    {
      "cell_type": "markdown",
      "source": [
        "# Clone GitHub and install Weights & Biases"
      ],
      "metadata": {
        "id": "xWw3dAiT9kvW"
      },
      "id": "xWw3dAiT9kvW"
    },
    {
      "cell_type": "code",
      "source": [
        "!git clone https://github.com/asangt/image_models"
      ],
      "metadata": {
        "colab": {
          "base_uri": "https://localhost:8080/"
        },
        "id": "9F4rdCvK9FSX",
        "outputId": "13689bc4-57c2-44ff-82e5-3532cc0280da"
      },
      "id": "9F4rdCvK9FSX",
      "execution_count": null,
      "outputs": [
        {
          "output_type": "stream",
          "name": "stdout",
          "text": [
            "Cloning into 'image_models'...\n",
            "remote: Enumerating objects: 26, done.\u001b[K\n",
            "remote: Counting objects: 100% (26/26), done.\u001b[K\n",
            "remote: Compressing objects: 100% (19/19), done.\u001b[K\n",
            "remote: Total 26 (delta 4), reused 23 (delta 4), pack-reused 0\u001b[K\n",
            "Unpacking objects: 100% (26/26), done.\n"
          ]
        }
      ]
    },
    {
      "cell_type": "code",
      "source": [
        "!pip install -q wandb"
      ],
      "metadata": {
        "colab": {
          "base_uri": "https://localhost:8080/"
        },
        "id": "Hkh-fstC9eIW",
        "outputId": "1ebbeb0c-1ed3-4502-c6dd-6d70c016080e"
      },
      "id": "Hkh-fstC9eIW",
      "execution_count": null,
      "outputs": [
        {
          "output_type": "stream",
          "name": "stdout",
          "text": [
            "\u001b[K     |████████████████████████████████| 1.7 MB 8.5 MB/s \n",
            "\u001b[K     |████████████████████████████████| 97 kB 3.8 MB/s \n",
            "\u001b[K     |████████████████████████████████| 143 kB 55.0 MB/s \n",
            "\u001b[K     |████████████████████████████████| 180 kB 69.2 MB/s \n",
            "\u001b[K     |████████████████████████████████| 63 kB 1.9 MB/s \n",
            "\u001b[?25h  Building wheel for subprocess32 (setup.py) ... \u001b[?25l\u001b[?25hdone\n",
            "  Building wheel for pathtools (setup.py) ... \u001b[?25l\u001b[?25hdone\n"
          ]
        }
      ]
    },
    {
      "cell_type": "code",
      "source": [
        "!nvidia-smi"
      ],
      "metadata": {
        "colab": {
          "base_uri": "https://localhost:8080/"
        },
        "id": "Ca4HR-D6-Fme",
        "outputId": "a324eb14-6557-44fd-b677-91579c8c66c6"
      },
      "id": "Ca4HR-D6-Fme",
      "execution_count": null,
      "outputs": [
        {
          "output_type": "stream",
          "name": "stdout",
          "text": [
            "Sat Jan 29 15:35:39 2022       \n",
            "+-----------------------------------------------------------------------------+\n",
            "| NVIDIA-SMI 495.46       Driver Version: 460.32.03    CUDA Version: 11.2     |\n",
            "|-------------------------------+----------------------+----------------------+\n",
            "| GPU  Name        Persistence-M| Bus-Id        Disp.A | Volatile Uncorr. ECC |\n",
            "| Fan  Temp  Perf  Pwr:Usage/Cap|         Memory-Usage | GPU-Util  Compute M. |\n",
            "|                               |                      |               MIG M. |\n",
            "|===============================+======================+======================|\n",
            "|   0  Tesla P100-PCIE...  Off  | 00000000:00:04.0 Off |                    0 |\n",
            "| N/A   39C    P0    29W / 250W |      0MiB / 16280MiB |      0%      Default |\n",
            "|                               |                      |                  N/A |\n",
            "+-------------------------------+----------------------+----------------------+\n",
            "                                                                               \n",
            "+-----------------------------------------------------------------------------+\n",
            "| Processes:                                                                  |\n",
            "|  GPU   GI   CI        PID   Type   Process name                  GPU Memory |\n",
            "|        ID   ID                                                   Usage      |\n",
            "|=============================================================================|\n",
            "|  No running processes found                                                 |\n",
            "+-----------------------------------------------------------------------------+\n"
          ]
        }
      ]
    },
    {
      "cell_type": "markdown",
      "source": [
        "# Notebook"
      ],
      "metadata": {
        "id": "jQgJ-k6E9q8Y"
      },
      "id": "jQgJ-k6E9q8Y"
    },
    {
      "cell_type": "code",
      "execution_count": null,
      "id": "e15436e2-2557-451d-b615-26648d2a8a55",
      "metadata": {
        "id": "e15436e2-2557-451d-b615-26648d2a8a55"
      },
      "outputs": [],
      "source": [
        "import torch\n",
        "import torch.nn as nn\n",
        "import torch.nn.functional as F\n",
        "import torch.optim as optim\n",
        "import torchvision\n",
        "import torchvision.transforms as transforms\n",
        "\n",
        "import wandb\n",
        "\n",
        "from torch.utils.data import DataLoader\n",
        "from torchvision.datasets import CIFAR10\n",
        "\n",
        "from image_models.models.resnet import ResNet, _conv2d_bn_act, BottleneckBlock"
      ]
    },
    {
      "cell_type": "code",
      "source": [
        "# define a smaller ResNet50 architecture - https://github.com/kuangliu/pytorch-cifar\n",
        "\n",
        "class ResNet50_CIFAR(ResNet):\n",
        "\n",
        "    def __init__(self, n_classes, n_channels):\n",
        "        super(ResNet50_CIFAR, self).__init__(n_classes, n_channels, [3, 4, 6, 3], 'bottleneck')\n",
        "\n",
        "        self.conv1 = _conv2d_bn_act(in_channels=n_channels, out_channels=64, kernel_size=3, stride=1, padding=1)\n",
        "        self.conv2_x = nn.Sequential(\n",
        "            BottleneckBlock(64, 64),\n",
        "            *[BottleneckBlock(64 * BottleneckBlock._expansion, 64) for i in range(2)]\n",
        "        )\n",
        "        \n",
        "        self.avg_pool = nn.AvgPool2d(kernel_size=4, stride=1)\n",
        "\n",
        "        self.feature_extractor = nn.Sequential(\n",
        "            self.conv1,\n",
        "            self.conv2_x,\n",
        "            self.conv3_x,\n",
        "            self.conv4_x,\n",
        "            self.conv5_x\n",
        "        )"
      ],
      "metadata": {
        "id": "MTRdqhTMMzoq"
      },
      "id": "MTRdqhTMMzoq",
      "execution_count": null,
      "outputs": []
    },
    {
      "cell_type": "code",
      "execution_count": null,
      "id": "bf85596a-dd50-4e8f-ada3-5f0cf4fa4dd5",
      "metadata": {
        "id": "bf85596a-dd50-4e8f-ada3-5f0cf4fa4dd5"
      },
      "outputs": [],
      "source": [
        "# training functions\n",
        "\n",
        "def accuracy(y_pred, y):\n",
        "    return (y_pred == y).float().sum() / len(y)\n",
        "\n",
        "def run_epoch(model, dataloader, loss_function, optimizer, metric, device):\n",
        "    epoch_loss, epoch_metric = 0, 0\n",
        "    for X, y in dataloader:\n",
        "        X, y = X.to(device), y.to(device)\n",
        "        \n",
        "        # forward pass\n",
        "        m_out = model(X)\n",
        "        loss = loss_function(m_out, y)\n",
        "        \n",
        "        # backward pass\n",
        "        if optimizer:\n",
        "            optimizer.zero_grad()\n",
        "            loss.backward()\n",
        "            optimizer.step()\n",
        "        \n",
        "        if metric:\n",
        "            epoch_metric += metric(m_out.softmax(dim=1).argmax(dim=1), y)\n",
        "        \n",
        "        epoch_loss += loss.item()\n",
        "    \n",
        "    epoch_loss /= len(dataloader)\n",
        "    epoch_metric /= len(dataloader)\n",
        "    \n",
        "    return epoch_loss, epoch_metric\n",
        "\n",
        "def train(\n",
        "    model, n_epochs, dataloaders, loss_function, optimizer, scheduler=None, metric=None, device=None, logger=None\n",
        "):\n",
        "    if device is None:\n",
        "        device = torch.device('cuda' if torch.cuda.is_available() else 'cpu')\n",
        "\n",
        "    for epoch in range(1, n_epochs + 1):\n",
        "        model.train()\n",
        "        train_loss, train_metric = run_epoch(model, dataloaders['train'], loss_function, optimizer, metric, device)\n",
        "        \n",
        "        if 'valid' in dataloaders:\n",
        "            model.eval()\n",
        "            valid_loss, valid_metric = run_epoch(model, dataloaders['valid'], loss_function, None, metric, device)\n",
        "        \n",
        "        if scheduler:\n",
        "            if isinstance(scheduler, optim.lr_scheduler.ReduceLROnPlateau) and 'valid' in dataloaders:\n",
        "                scheduler.step(valid_loss)\n",
        "            else:\n",
        "                scheduler.step()\n",
        "        \n",
        "        if logger:\n",
        "            logger.log({\n",
        "                'train loss' : train_loss,\n",
        "                'train accuracy' : train_metric * 100,\n",
        "                'valid loss' : valid_loss,\n",
        "                'valid accuracy' : valid_metric * 100\n",
        "            })\n",
        "    \n",
        "    return model"
      ]
    },
    {
      "cell_type": "code",
      "source": [
        "device = torch.device('cuda' if torch.cuda.is_available() else 'cpu')\n",
        "\n",
        "model = ResNet50_CIFAR(10, 3)\n",
        "\n",
        "n_epochs = 100\n",
        "batch_size = 128\n",
        "loss_function = nn.CrossEntropyLoss()\n",
        "\n",
        "learning_rate = 0.1\n",
        "optimizer = optim.SGD(model.parameters(), lr=learning_rate, momentum=0.9, weight_decay=1e-4)\n",
        "scheduler = optim.lr_scheduler.ReduceLROnPlateau(optimizer, patience=5, verbose=True)\n",
        "\n",
        "model = model.to(device)"
      ],
      "metadata": {
        "id": "Q4Iq-o8_dkp8"
      },
      "id": "Q4Iq-o8_dkp8",
      "execution_count": null,
      "outputs": []
    },
    {
      "cell_type": "code",
      "source": [
        "# image transforms\n",
        "\n",
        "train_transforms = transforms.Compose([\n",
        "    transforms.RandomCrop(32, padding=4),\n",
        "    transforms.RandomHorizontalFlip(),\n",
        "    transforms.RandomVerticalFlip(),\n",
        "    transforms.ColorJitter(brightness=(0.9, 1.1), saturation=(0.9, 1.1)),\n",
        "    transforms.ToTensor(),\n",
        "    transforms.Normalize((0.4914, 0.4822, 0.4465), (0.2023, 0.1994, 0.2010))\n",
        "])\n",
        "\n",
        "test_transforms = transforms.Compose([\n",
        "    transforms.ToTensor(),\n",
        "    transforms.Normalize((0.4914, 0.4822, 0.4465), (0.2023, 0.1994, 0.2010))                                   \n",
        "])\n",
        "\n",
        "train_set = torchvision.datasets.CIFAR10(root='./data', train=True, download=True, transform=train_transforms)\n",
        "valid_set  = torchvision.datasets.CIFAR10(root='./data', train=False, download=True, transform=test_transforms)\n",
        "\n",
        "train_loader = DataLoader(train_set, batch_size=batch_size, shuffle=True, num_workers=2)\n",
        "valid_loader = DataLoader(valid_set, batch_size=batch_size, shuffle=False, num_workers=2)\n",
        "\n",
        "dataloaders = {\n",
        "    'train' : train_loader,\n",
        "    'valid' : valid_loader\n",
        "}"
      ],
      "metadata": {
        "colab": {
          "base_uri": "https://localhost:8080/"
        },
        "id": "PZfaNaB9-kP9",
        "outputId": "08e66846-5c35-4f24-9a70-59afb0e64d54"
      },
      "id": "PZfaNaB9-kP9",
      "execution_count": null,
      "outputs": [
        {
          "output_type": "stream",
          "name": "stdout",
          "text": [
            "Files already downloaded and verified\n",
            "Files already downloaded and verified\n"
          ]
        }
      ]
    },
    {
      "cell_type": "code",
      "source": [
        "!wandb login"
      ],
      "metadata": {
        "colab": {
          "base_uri": "https://localhost:8080/"
        },
        "id": "h4nO2wMlew1X",
        "outputId": "00236aa3-cc29-4e15-ac7c-b382c13724e5"
      },
      "id": "h4nO2wMlew1X",
      "execution_count": null,
      "outputs": [
        {
          "output_type": "stream",
          "name": "stdout",
          "text": [
            "\u001b[34m\u001b[1mwandb\u001b[0m: Currently logged in as: \u001b[33masang\u001b[0m (use `wandb login --relogin` to force relogin)\n"
          ]
        }
      ]
    },
    {
      "cell_type": "code",
      "execution_count": null,
      "id": "4840b555-c1ea-4712-bacb-a8203841a47e",
      "metadata": {
        "colab": {
          "base_uri": "https://localhost:8080/",
          "height": 89
        },
        "id": "4840b555-c1ea-4712-bacb-a8203841a47e",
        "outputId": "6702eea6-23f3-466d-efc8-04ae3965cf35"
      },
      "outputs": [
        {
          "output_type": "stream",
          "name": "stderr",
          "text": [
            "\u001b[34m\u001b[1mwandb\u001b[0m: Currently logged in as: \u001b[33masang\u001b[0m (use `wandb login --relogin` to force relogin)\n"
          ]
        },
        {
          "output_type": "display_data",
          "data": {
            "text/html": [
              "\n",
              "                    Syncing run <strong><a href=\"https://wandb.ai/asang/image_models/runs/23lkx776\" target=\"_blank\">resnet50_cifar10</a></strong> to <a href=\"https://wandb.ai/asang/image_models\" target=\"_blank\">Weights & Biases</a> (<a href=\"https://docs.wandb.com/integrations/jupyter.html\" target=\"_blank\">docs</a>).<br/>\n",
              "\n",
              "                "
            ],
            "text/plain": [
              "<IPython.core.display.HTML object>"
            ]
          },
          "metadata": {}
        },
        {
          "output_type": "stream",
          "name": "stdout",
          "text": [
            "Epoch    40: reducing learning rate of group 0 to 1.0000e-02.\n",
            "Epoch    59: reducing learning rate of group 0 to 1.0000e-03.\n"
          ]
        }
      ],
      "source": [
        "wandb.init(name='resnet50_cifar10', project='image_models', entity='asang')\n",
        "\n",
        "wandb.config = {\n",
        "    'learning_rate' : learning_rate,\n",
        "    'epochs' : n_epochs,\n",
        "    'batch_size' : batch_size\n",
        "}\n",
        "\n",
        "model = train(model, n_epochs, dataloaders, loss_function, optimizer, scheduler, accuracy, device, wandb)"
      ]
    }
  ],
  "metadata": {
    "kernelspec": {
      "display_name": "Python 3",
      "language": "python",
      "name": "python3"
    },
    "language_info": {
      "codemirror_mode": {
        "name": "ipython",
        "version": 3
      },
      "file_extension": ".py",
      "mimetype": "text/x-python",
      "name": "python",
      "nbconvert_exporter": "python",
      "pygments_lexer": "ipython3",
      "version": "3.7.8"
    },
    "colab": {
      "name": "resnet_cifar10.ipynb",
      "provenance": [],
      "include_colab_link": true
    },
    "accelerator": "GPU"
  },
  "nbformat": 4,
  "nbformat_minor": 5
}