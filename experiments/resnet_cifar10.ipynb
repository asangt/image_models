{
  "cells": [
    {
      "cell_type": "markdown",
      "metadata": {
        "id": "view-in-github",
        "colab_type": "text"
      },
      "source": [
        "<a href=\"https://colab.research.google.com/github/asangt/image_models/blob/main/resnet_cifar10.ipynb\" target=\"_parent\"><img src=\"https://colab.research.google.com/assets/colab-badge.svg\" alt=\"Open In Colab\"/></a>"
      ]
    },
    {
      "cell_type": "markdown",
      "source": [
        "# Clone GitHub and install Weights & Biases"
      ],
      "metadata": {
        "id": "xWw3dAiT9kvW"
      },
      "id": "xWw3dAiT9kvW"
    },
    {
      "cell_type": "code",
      "source": [
        "!git clone -b experimental https://github.com/asangt/image_models\n",
        "!pip install -q wandb\n",
        "!nvidia-smi"
      ],
      "metadata": {
        "colab": {
          "base_uri": "https://localhost:8080/"
        },
        "id": "9F4rdCvK9FSX",
        "outputId": "e580f2aa-7c64-4666-b173-0aeedaaeedff"
      },
      "id": "9F4rdCvK9FSX",
      "execution_count": 1,
      "outputs": [
        {
          "output_type": "stream",
          "name": "stdout",
          "text": [
            "fatal: destination path 'image_models' already exists and is not an empty directory.\n",
            "Sun Jan 30 15:01:17 2022       \n",
            "+-----------------------------------------------------------------------------+\n",
            "| NVIDIA-SMI 495.46       Driver Version: 460.32.03    CUDA Version: 11.2     |\n",
            "|-------------------------------+----------------------+----------------------+\n",
            "| GPU  Name        Persistence-M| Bus-Id        Disp.A | Volatile Uncorr. ECC |\n",
            "| Fan  Temp  Perf  Pwr:Usage/Cap|         Memory-Usage | GPU-Util  Compute M. |\n",
            "|                               |                      |               MIG M. |\n",
            "|===============================+======================+======================|\n",
            "|   0  Tesla P100-PCIE...  Off  | 00000000:00:04.0 Off |                    0 |\n",
            "| N/A   37C    P0    27W / 250W |      0MiB / 16280MiB |      0%      Default |\n",
            "|                               |                      |                  N/A |\n",
            "+-------------------------------+----------------------+----------------------+\n",
            "                                                                               \n",
            "+-----------------------------------------------------------------------------+\n",
            "| Processes:                                                                  |\n",
            "|  GPU   GI   CI        PID   Type   Process name                  GPU Memory |\n",
            "|        ID   ID                                                   Usage      |\n",
            "|=============================================================================|\n",
            "|  No running processes found                                                 |\n",
            "+-----------------------------------------------------------------------------+\n"
          ]
        }
      ]
    },
    {
      "cell_type": "markdown",
      "source": [
        "# Notebook"
      ],
      "metadata": {
        "id": "jQgJ-k6E9q8Y"
      },
      "id": "jQgJ-k6E9q8Y"
    },
    {
      "cell_type": "code",
      "execution_count": 1,
      "id": "e15436e2-2557-451d-b615-26648d2a8a55",
      "metadata": {
        "id": "e15436e2-2557-451d-b615-26648d2a8a55"
      },
      "outputs": [],
      "source": [
        "import torch\n",
        "import torch.nn as nn\n",
        "import torch.nn.functional as F\n",
        "import torch.optim as optim\n",
        "import torchvision\n",
        "import torchvision.transforms as transforms\n",
        "\n",
        "import wandb\n",
        "\n",
        "from torch.utils.data import DataLoader\n",
        "from torchvision.datasets import CIFAR10\n",
        "\n",
        "from image_models.models.resnet import ResNet, _conv2d_bn_act, BottleneckBlock"
      ]
    },
    {
      "cell_type": "code",
      "source": [
        "# define a smaller ResNet50 architecture - https://github.com/kuangliu/pytorch-cifar\n",
        "\n",
        "class ResNet50_CIFAR(ResNet):\n",
        "\n",
        "    def __init__(self, n_classes, n_channels):\n",
        "        super(ResNet50_CIFAR, self).__init__(n_classes, n_channels, [3, 4, 6, 3], 'bottleneck')\n",
        "\n",
        "        self.conv1 = _conv2d_bn_act(in_channels=n_channels, out_channels=64, kernel_size=3, stride=1, padding=1)\n",
        "        self.conv2_x = nn.Sequential(\n",
        "            BottleneckBlock(64, 64),\n",
        "            *[BottleneckBlock(64 * BottleneckBlock._expansion, 64) for i in range(2)]\n",
        "        )\n",
        "        \n",
        "        self.avg_pool = nn.AvgPool2d(kernel_size=4, stride=1)\n",
        "\n",
        "        self.feature_extractor = nn.Sequential(\n",
        "            self.conv1,\n",
        "            self.conv2_x,\n",
        "            self.conv3_x,\n",
        "            self.conv4_x,\n",
        "            self.conv5_x\n",
        "        )"
      ],
      "metadata": {
        "id": "MTRdqhTMMzoq"
      },
      "id": "MTRdqhTMMzoq",
      "execution_count": 2,
      "outputs": []
    },
    {
      "cell_type": "code",
      "execution_count": 3,
      "id": "bf85596a-dd50-4e8f-ada3-5f0cf4fa4dd5",
      "metadata": {
        "id": "bf85596a-dd50-4e8f-ada3-5f0cf4fa4dd5"
      },
      "outputs": [],
      "source": [
        "# training functions\n",
        "\n",
        "def accuracy(y_pred, y):\n",
        "    return (y_pred == y).float().sum() / len(y)\n",
        "\n",
        "def run_epoch(model, dataloader, loss_function, optimizer, metric, device):\n",
        "    epoch_loss, epoch_metric = 0, 0\n",
        "    for X, y in dataloader:\n",
        "        X, y = X.to(device), y.to(device)\n",
        "        \n",
        "        # forward pass\n",
        "        m_out = model(X)\n",
        "        loss = loss_function(m_out, y)\n",
        "        \n",
        "        # backward pass\n",
        "        if optimizer:\n",
        "            optimizer.zero_grad()\n",
        "            loss.backward()\n",
        "            optimizer.step()\n",
        "        \n",
        "        if metric:\n",
        "            epoch_metric += metric(m_out.softmax(dim=1).argmax(dim=1), y)\n",
        "        \n",
        "        epoch_loss += loss.item()\n",
        "    \n",
        "    epoch_loss /= len(dataloader)\n",
        "    epoch_metric /= len(dataloader)\n",
        "    \n",
        "    return epoch_loss, epoch_metric\n",
        "\n",
        "def train(\n",
        "    model, n_epochs, dataloaders, loss_function, optimizer, scheduler=None, metric=None, device=None, logger=None\n",
        "):\n",
        "    if device is None:\n",
        "        device = torch.device('cuda' if torch.cuda.is_available() else 'cpu')\n",
        "\n",
        "    for epoch in range(1, n_epochs + 1):\n",
        "        model.train()\n",
        "        train_loss, train_metric = run_epoch(model, dataloaders['train'], loss_function, optimizer, metric, device)\n",
        "        \n",
        "        if 'valid' in dataloaders:\n",
        "            model.eval()\n",
        "            valid_loss, valid_metric = run_epoch(model, dataloaders['valid'], loss_function, None, metric, device)\n",
        "        \n",
        "        if scheduler:\n",
        "            if isinstance(scheduler, optim.lr_scheduler.ReduceLROnPlateau) and 'valid' in dataloaders:\n",
        "                scheduler.step(valid_loss)\n",
        "            else:\n",
        "                scheduler.step()\n",
        "        \n",
        "        if logger:\n",
        "            logger.log({\n",
        "                'train loss' : train_loss,\n",
        "                'train accuracy' : train_metric * 100,\n",
        "                'valid loss' : valid_loss,\n",
        "                'valid accuracy' : valid_metric * 100\n",
        "            })\n",
        "    \n",
        "    return model"
      ]
    },
    {
      "cell_type": "code",
      "source": [
        "device = torch.device('cuda' if torch.cuda.is_available() else 'cpu')\n",
        "\n",
        "model = ResNet50_CIFAR(10, 3)\n",
        "\n",
        "n_epochs = 100\n",
        "batch_size = 128\n",
        "loss_function = nn.CrossEntropyLoss()\n",
        "\n",
        "learning_rate = 0.1\n",
        "optimizer = optim.SGD(model.parameters(), lr=learning_rate, momentum=0.9, weight_decay=1e-4)\n",
        "scheduler = optim.lr_scheduler.ReduceLROnPlateau(optimizer, patience=5, verbose=True)\n",
        "\n",
        "model = model.to(device)"
      ],
      "metadata": {
        "id": "Q4Iq-o8_dkp8"
      },
      "id": "Q4Iq-o8_dkp8",
      "execution_count": 4,
      "outputs": []
    },
    {
      "cell_type": "code",
      "source": [
        "# image transforms\n",
        "\n",
        "train_transforms = transforms.Compose([\n",
        "    transforms.RandomCrop(32, padding=4),\n",
        "    transforms.RandomHorizontalFlip(),\n",
        "    transforms.RandomVerticalFlip(),\n",
        "    transforms.ColorJitter(brightness=(0.9, 1.1), saturation=(0.9, 1.1)),\n",
        "    transforms.ToTensor(),\n",
        "    transforms.Normalize((0.4914, 0.4822, 0.4465), (0.2023, 0.1994, 0.2010))\n",
        "])\n",
        "\n",
        "test_transforms = transforms.Compose([\n",
        "    transforms.ToTensor(),\n",
        "    transforms.Normalize((0.4914, 0.4822, 0.4465), (0.2023, 0.1994, 0.2010))                                   \n",
        "])\n",
        "\n",
        "train_set = torchvision.datasets.CIFAR10(root='./data', train=True, download=True, transform=train_transforms)\n",
        "valid_set  = torchvision.datasets.CIFAR10(root='./data', train=False, download=True, transform=test_transforms)\n",
        "\n",
        "train_loader = DataLoader(train_set, batch_size=batch_size, shuffle=True, num_workers=2)\n",
        "valid_loader = DataLoader(valid_set, batch_size=batch_size, shuffle=False, num_workers=2)\n",
        "\n",
        "dataloaders = {\n",
        "    'train' : train_loader,\n",
        "    'valid' : valid_loader\n",
        "}"
      ],
      "metadata": {
        "colab": {
          "base_uri": "https://localhost:8080/",
          "height": 104,
          "referenced_widgets": [
            "782031bb423d49129dc574bebdbb3038",
            "68ab28ed1d094655bce4f7e45cd1d8a0",
            "90434e548fe544e282e281f734cea32a",
            "6be42ec627864bdb9c4856cabcaac20f",
            "43846d905d92478cb6b20259b70e8f28",
            "03bd5465b2b849e9916356294a48a026",
            "7f76b6459a254690ac1793823ba2ba20",
            "14936e0d180f4b5aabf221c4e2a236b2",
            "631572f6631d4972b3bbf150733a9a10",
            "2b626cba6aeb4842b5ffa82957f36520",
            "c30436c12b544d159226e5515876d9ea"
          ]
        },
        "id": "PZfaNaB9-kP9",
        "outputId": "6f0720ed-02b5-468f-89b3-69aa093cb77d"
      },
      "id": "PZfaNaB9-kP9",
      "execution_count": 5,
      "outputs": [
        {
          "output_type": "stream",
          "name": "stdout",
          "text": [
            "Downloading https://www.cs.toronto.edu/~kriz/cifar-10-python.tar.gz to ./data/cifar-10-python.tar.gz\n"
          ]
        },
        {
          "output_type": "display_data",
          "data": {
            "application/vnd.jupyter.widget-view+json": {
              "model_id": "782031bb423d49129dc574bebdbb3038",
              "version_minor": 0,
              "version_major": 2
            },
            "text/plain": [
              "  0%|          | 0/170498071 [00:00<?, ?it/s]"
            ]
          },
          "metadata": {}
        },
        {
          "output_type": "stream",
          "name": "stdout",
          "text": [
            "Extracting ./data/cifar-10-python.tar.gz to ./data\n",
            "Files already downloaded and verified\n"
          ]
        }
      ]
    },
    {
      "cell_type": "code",
      "source": [
        "!wandb login"
      ],
      "metadata": {
        "colab": {
          "base_uri": "https://localhost:8080/"
        },
        "id": "h4nO2wMlew1X",
        "outputId": "3c018766-2b3b-49e3-d1b1-a81460da0f46"
      },
      "id": "h4nO2wMlew1X",
      "execution_count": 6,
      "outputs": [
        {
          "output_type": "stream",
          "name": "stdout",
          "text": [
            "\u001b[34m\u001b[1mwandb\u001b[0m: You can find your API key in your browser here: https://wandb.ai/authorize\n",
            "\u001b[34m\u001b[1mwandb\u001b[0m: Paste an API key from your profile and hit enter, or press ctrl+c to quit: \n",
            "\u001b[34m\u001b[1mwandb\u001b[0m: Appending key for api.wandb.ai to your netrc file: /root/.netrc\n"
          ]
        }
      ]
    },
    {
      "cell_type": "code",
      "execution_count": 7,
      "id": "4840b555-c1ea-4712-bacb-a8203841a47e",
      "metadata": {
        "colab": {
          "base_uri": "https://localhost:8080/",
          "height": 181
        },
        "id": "4840b555-c1ea-4712-bacb-a8203841a47e",
        "outputId": "57d99c29-93cd-4408-a2aa-413f6e00ee32"
      },
      "outputs": [
        {
          "metadata": {
            "tags": null
          },
          "name": "stderr",
          "output_type": "stream",
          "text": [
            "\u001b[34m\u001b[1mwandb\u001b[0m: Currently logged in as: \u001b[33masang\u001b[0m (use `wandb login --relogin` to force relogin)\n"
          ]
        },
        {
          "data": {
            "text/html": [
              "\n",
              "                    Syncing run <strong><a href=\"https://wandb.ai/asang/image_models/runs/mmosmq8y\" target=\"_blank\">resnet50_cifar10</a></strong> to <a href=\"https://wandb.ai/asang/image_models\" target=\"_blank\">Weights & Biases</a> (<a href=\"https://docs.wandb.com/integrations/jupyter.html\" target=\"_blank\">docs</a>).<br/>\n",
              "\n",
              "                "
            ],
            "text/plain": [
              "<IPython.core.display.HTML object>"
            ]
          },
          "metadata": {},
          "output_type": "display_data"
        },
        {
          "output_type": "stream",
          "name": "stdout",
          "text": [
            "Epoch    34: reducing learning rate of group 0 to 1.0000e-02.\n",
            "Epoch    54: reducing learning rate of group 0 to 1.0000e-03.\n",
            "Epoch    67: reducing learning rate of group 0 to 1.0000e-04.\n",
            "Epoch    73: reducing learning rate of group 0 to 1.0000e-05.\n",
            "Epoch    79: reducing learning rate of group 0 to 1.0000e-06.\n",
            "Epoch    85: reducing learning rate of group 0 to 1.0000e-07.\n",
            "Epoch    91: reducing learning rate of group 0 to 1.0000e-08.\n"
          ]
        }
      ],
      "source": [
        "wandb.init(name='resnet50_cifar10', project='image_models', entity='asang')\n",
        "\n",
        "wandb.config = {\n",
        "    'learning_rate' : learning_rate,\n",
        "    'epochs' : n_epochs,\n",
        "    'batch_size' : batch_size\n",
        "}\n",
        "\n",
        "model = train(model, n_epochs, dataloaders, loss_function, optimizer, scheduler, accuracy, device, wandb)"
      ]
    },
    {
      "cell_type": "code",
      "source": [
        "torch.save(model.state_dict(), 'resnet50_cifar10.pth')"
      ],
      "metadata": {
        "id": "cN7zMbEih541"
      },
      "id": "cN7zMbEih541",
      "execution_count": 8,
      "outputs": []
    }
  ],
  "metadata": {
    "kernelspec": {
      "display_name": "Python 3",
      "language": "python",
      "name": "python3"
    },
    "language_info": {
      "codemirror_mode": {
        "name": "ipython",
        "version": 3
      },
      "file_extension": ".py",
      "mimetype": "text/x-python",
      "name": "python",
      "nbconvert_exporter": "python",
      "pygments_lexer": "ipython3",
      "version": "3.7.8"
    },
    "colab": {
      "name": "resnet_cifar10.ipynb",
      "provenance": [],
      "collapsed_sections": [],
      "include_colab_link": true
    },
    "accelerator": "GPU",
    "widgets": {
      "application/vnd.jupyter.widget-state+json": {
        "782031bb423d49129dc574bebdbb3038": {
          "model_module": "@jupyter-widgets/controls",
          "model_name": "HBoxModel",
          "model_module_version": "1.5.0",
          "state": {
            "_view_name": "HBoxView",
            "_dom_classes": [],
            "_model_name": "HBoxModel",
            "_view_module": "@jupyter-widgets/controls",
            "_model_module_version": "1.5.0",
            "_view_count": null,
            "_view_module_version": "1.5.0",
            "box_style": "",
            "layout": "IPY_MODEL_68ab28ed1d094655bce4f7e45cd1d8a0",
            "_model_module": "@jupyter-widgets/controls",
            "children": [
              "IPY_MODEL_90434e548fe544e282e281f734cea32a",
              "IPY_MODEL_6be42ec627864bdb9c4856cabcaac20f",
              "IPY_MODEL_43846d905d92478cb6b20259b70e8f28"
            ]
          }
        },
        "68ab28ed1d094655bce4f7e45cd1d8a0": {
          "model_module": "@jupyter-widgets/base",
          "model_name": "LayoutModel",
          "model_module_version": "1.2.0",
          "state": {
            "_view_name": "LayoutView",
            "grid_template_rows": null,
            "right": null,
            "justify_content": null,
            "_view_module": "@jupyter-widgets/base",
            "overflow": null,
            "_model_module_version": "1.2.0",
            "_view_count": null,
            "flex_flow": null,
            "width": null,
            "min_width": null,
            "border": null,
            "align_items": null,
            "bottom": null,
            "_model_module": "@jupyter-widgets/base",
            "top": null,
            "grid_column": null,
            "overflow_y": null,
            "overflow_x": null,
            "grid_auto_flow": null,
            "grid_area": null,
            "grid_template_columns": null,
            "flex": null,
            "_model_name": "LayoutModel",
            "justify_items": null,
            "grid_row": null,
            "max_height": null,
            "align_content": null,
            "visibility": null,
            "align_self": null,
            "height": null,
            "min_height": null,
            "padding": null,
            "grid_auto_rows": null,
            "grid_gap": null,
            "max_width": null,
            "order": null,
            "_view_module_version": "1.2.0",
            "grid_template_areas": null,
            "object_position": null,
            "object_fit": null,
            "grid_auto_columns": null,
            "margin": null,
            "display": null,
            "left": null
          }
        },
        "90434e548fe544e282e281f734cea32a": {
          "model_module": "@jupyter-widgets/controls",
          "model_name": "HTMLModel",
          "model_module_version": "1.5.0",
          "state": {
            "_view_name": "HTMLView",
            "style": "IPY_MODEL_03bd5465b2b849e9916356294a48a026",
            "_dom_classes": [],
            "description": "",
            "_model_name": "HTMLModel",
            "placeholder": "​",
            "_view_module": "@jupyter-widgets/controls",
            "_model_module_version": "1.5.0",
            "value": "",
            "_view_count": null,
            "_view_module_version": "1.5.0",
            "description_tooltip": null,
            "_model_module": "@jupyter-widgets/controls",
            "layout": "IPY_MODEL_7f76b6459a254690ac1793823ba2ba20"
          }
        },
        "6be42ec627864bdb9c4856cabcaac20f": {
          "model_module": "@jupyter-widgets/controls",
          "model_name": "FloatProgressModel",
          "model_module_version": "1.5.0",
          "state": {
            "_view_name": "ProgressView",
            "style": "IPY_MODEL_14936e0d180f4b5aabf221c4e2a236b2",
            "_dom_classes": [],
            "description": "",
            "_model_name": "FloatProgressModel",
            "bar_style": "success",
            "max": 170498071,
            "_view_module": "@jupyter-widgets/controls",
            "_model_module_version": "1.5.0",
            "value": 170498071,
            "_view_count": null,
            "_view_module_version": "1.5.0",
            "orientation": "horizontal",
            "min": 0,
            "description_tooltip": null,
            "_model_module": "@jupyter-widgets/controls",
            "layout": "IPY_MODEL_631572f6631d4972b3bbf150733a9a10"
          }
        },
        "43846d905d92478cb6b20259b70e8f28": {
          "model_module": "@jupyter-widgets/controls",
          "model_name": "HTMLModel",
          "model_module_version": "1.5.0",
          "state": {
            "_view_name": "HTMLView",
            "style": "IPY_MODEL_2b626cba6aeb4842b5ffa82957f36520",
            "_dom_classes": [],
            "description": "",
            "_model_name": "HTMLModel",
            "placeholder": "​",
            "_view_module": "@jupyter-widgets/controls",
            "_model_module_version": "1.5.0",
            "value": " 170499072/? [00:03&lt;00:00, 53960446.08it/s]",
            "_view_count": null,
            "_view_module_version": "1.5.0",
            "description_tooltip": null,
            "_model_module": "@jupyter-widgets/controls",
            "layout": "IPY_MODEL_c30436c12b544d159226e5515876d9ea"
          }
        },
        "03bd5465b2b849e9916356294a48a026": {
          "model_module": "@jupyter-widgets/controls",
          "model_name": "DescriptionStyleModel",
          "model_module_version": "1.5.0",
          "state": {
            "_view_name": "StyleView",
            "_model_name": "DescriptionStyleModel",
            "description_width": "",
            "_view_module": "@jupyter-widgets/base",
            "_model_module_version": "1.5.0",
            "_view_count": null,
            "_view_module_version": "1.2.0",
            "_model_module": "@jupyter-widgets/controls"
          }
        },
        "7f76b6459a254690ac1793823ba2ba20": {
          "model_module": "@jupyter-widgets/base",
          "model_name": "LayoutModel",
          "model_module_version": "1.2.0",
          "state": {
            "_view_name": "LayoutView",
            "grid_template_rows": null,
            "right": null,
            "justify_content": null,
            "_view_module": "@jupyter-widgets/base",
            "overflow": null,
            "_model_module_version": "1.2.0",
            "_view_count": null,
            "flex_flow": null,
            "width": null,
            "min_width": null,
            "border": null,
            "align_items": null,
            "bottom": null,
            "_model_module": "@jupyter-widgets/base",
            "top": null,
            "grid_column": null,
            "overflow_y": null,
            "overflow_x": null,
            "grid_auto_flow": null,
            "grid_area": null,
            "grid_template_columns": null,
            "flex": null,
            "_model_name": "LayoutModel",
            "justify_items": null,
            "grid_row": null,
            "max_height": null,
            "align_content": null,
            "visibility": null,
            "align_self": null,
            "height": null,
            "min_height": null,
            "padding": null,
            "grid_auto_rows": null,
            "grid_gap": null,
            "max_width": null,
            "order": null,
            "_view_module_version": "1.2.0",
            "grid_template_areas": null,
            "object_position": null,
            "object_fit": null,
            "grid_auto_columns": null,
            "margin": null,
            "display": null,
            "left": null
          }
        },
        "14936e0d180f4b5aabf221c4e2a236b2": {
          "model_module": "@jupyter-widgets/controls",
          "model_name": "ProgressStyleModel",
          "model_module_version": "1.5.0",
          "state": {
            "_view_name": "StyleView",
            "_model_name": "ProgressStyleModel",
            "description_width": "",
            "_view_module": "@jupyter-widgets/base",
            "_model_module_version": "1.5.0",
            "_view_count": null,
            "_view_module_version": "1.2.0",
            "bar_color": null,
            "_model_module": "@jupyter-widgets/controls"
          }
        },
        "631572f6631d4972b3bbf150733a9a10": {
          "model_module": "@jupyter-widgets/base",
          "model_name": "LayoutModel",
          "model_module_version": "1.2.0",
          "state": {
            "_view_name": "LayoutView",
            "grid_template_rows": null,
            "right": null,
            "justify_content": null,
            "_view_module": "@jupyter-widgets/base",
            "overflow": null,
            "_model_module_version": "1.2.0",
            "_view_count": null,
            "flex_flow": null,
            "width": null,
            "min_width": null,
            "border": null,
            "align_items": null,
            "bottom": null,
            "_model_module": "@jupyter-widgets/base",
            "top": null,
            "grid_column": null,
            "overflow_y": null,
            "overflow_x": null,
            "grid_auto_flow": null,
            "grid_area": null,
            "grid_template_columns": null,
            "flex": null,
            "_model_name": "LayoutModel",
            "justify_items": null,
            "grid_row": null,
            "max_height": null,
            "align_content": null,
            "visibility": null,
            "align_self": null,
            "height": null,
            "min_height": null,
            "padding": null,
            "grid_auto_rows": null,
            "grid_gap": null,
            "max_width": null,
            "order": null,
            "_view_module_version": "1.2.0",
            "grid_template_areas": null,
            "object_position": null,
            "object_fit": null,
            "grid_auto_columns": null,
            "margin": null,
            "display": null,
            "left": null
          }
        },
        "2b626cba6aeb4842b5ffa82957f36520": {
          "model_module": "@jupyter-widgets/controls",
          "model_name": "DescriptionStyleModel",
          "model_module_version": "1.5.0",
          "state": {
            "_view_name": "StyleView",
            "_model_name": "DescriptionStyleModel",
            "description_width": "",
            "_view_module": "@jupyter-widgets/base",
            "_model_module_version": "1.5.0",
            "_view_count": null,
            "_view_module_version": "1.2.0",
            "_model_module": "@jupyter-widgets/controls"
          }
        },
        "c30436c12b544d159226e5515876d9ea": {
          "model_module": "@jupyter-widgets/base",
          "model_name": "LayoutModel",
          "model_module_version": "1.2.0",
          "state": {
            "_view_name": "LayoutView",
            "grid_template_rows": null,
            "right": null,
            "justify_content": null,
            "_view_module": "@jupyter-widgets/base",
            "overflow": null,
            "_model_module_version": "1.2.0",
            "_view_count": null,
            "flex_flow": null,
            "width": null,
            "min_width": null,
            "border": null,
            "align_items": null,
            "bottom": null,
            "_model_module": "@jupyter-widgets/base",
            "top": null,
            "grid_column": null,
            "overflow_y": null,
            "overflow_x": null,
            "grid_auto_flow": null,
            "grid_area": null,
            "grid_template_columns": null,
            "flex": null,
            "_model_name": "LayoutModel",
            "justify_items": null,
            "grid_row": null,
            "max_height": null,
            "align_content": null,
            "visibility": null,
            "align_self": null,
            "height": null,
            "min_height": null,
            "padding": null,
            "grid_auto_rows": null,
            "grid_gap": null,
            "max_width": null,
            "order": null,
            "_view_module_version": "1.2.0",
            "grid_template_areas": null,
            "object_position": null,
            "object_fit": null,
            "grid_auto_columns": null,
            "margin": null,
            "display": null,
            "left": null
          }
        }
      }
    }
  },
  "nbformat": 4,
  "nbformat_minor": 5
}